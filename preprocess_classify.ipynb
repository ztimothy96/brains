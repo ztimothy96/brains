{
 "cells": [
  {
   "cell_type": "code",
   "execution_count": 1,
   "metadata": {},
   "outputs": [
    {
     "name": "stdout",
     "output_type": "stream",
     "text": [
      "(256, 256, 64)\n",
      "(256, 256, 64)\n",
      "(256, 256, 64)\n",
      "(256, 256, 64)\n",
      "(256, 256, 64)\n",
      "(256, 256, 64)\n",
      "(256, 256, 64)\n",
      "(256, 256, 64)\n",
      "(256, 256, 64)\n",
      "(256, 256, 64)\n",
      "['10005_19010618_eTRA-3D-T1Gd', '10005_19011011_eTRA-3D-T1Gd', '10005_19020128_TRA-3D-T1', '10005_19020413_eTRA-3D-T1Gd', '10020_19010822_TRA_3D_T1+GD', '10020_19011029_TRA_3D_T1_HR+GD', '10020_19011216_TRA_3D_T1_HR+GD', '10024_19001219_TRA_3D_T1+GD', '10024_19010417_TRA_3D_T1+GD', '10024_19010824_TRA_3D_T1_SENSE']\n"
     ]
    }
   ],
   "source": [
    "import glob\n",
    "import numpy as np\n",
    "from tqdm import tqdm\n",
    "\n",
    "CLASSIFY_DATA_FOLDER = 'data_classify'\n",
    "DATA_FOLDER = 'data'\n",
    "IMG_EXT = '_img.npy'\n",
    "MASK_EXT = '_msk.npy'\n",
    "img_list = sorted(glob.glob('{}/*{}'.format(DATA_FOLDER, IMG_EXT)))\n",
    "name_list = [fn.replace(IMG_EXT, '').replace(DATA_FOLDER+'/', '') for fn in img_list]\n",
    "for img in img_list[:10]:\n",
    "    arr = np.load(img)\n",
    "    print(arr.shape)\n",
    "\n",
    "print(name_list[:10])"
   ]
  },
  {
   "cell_type": "code",
   "execution_count": 2,
   "metadata": {},
   "outputs": [],
   "source": [
    "# input: arr (numpy array), h (int), w (int), d (int)\n",
    "# output: break data into a grid of subarrays of dimension h x w x d and save\n",
    "h, w, d = 64, 64, 64\n",
    "def save_chunks(arr, save_folder, save_name, ext):\n",
    "    H, W, D = arr.shape\n",
    "    count = 0\n",
    "    for i in range(H // h):\n",
    "        for j in range(W // w):\n",
    "            for k in range(D // d):\n",
    "                subdata = arr[i*h:(i+1)*h, j*w:(j+1)*w, k*d:(k+1)*d]\n",
    "                np.save('{}/{}_{}{}'.format(save_folder, save_name, count, ext), subdata)\n",
    "                count += 1\n",
    "    return"
   ]
  },
  {
   "cell_type": "code",
   "execution_count": 3,
   "metadata": {},
   "outputs": [
    {
     "name": "stderr",
     "output_type": "stream",
     "text": [
      " 18%|█▊        | 69/373 [00:23<01:42,  2.97it/s]\n"
     ]
    },
    {
     "ename": "KeyboardInterrupt",
     "evalue": "",
     "output_type": "error",
     "traceback": [
      "\u001b[0;31m---------------------------------------------------------------------------\u001b[0m",
      "\u001b[0;31mKeyboardInterrupt\u001b[0m                         Traceback (most recent call last)",
      "Cell \u001b[0;32mIn[3], line 6\u001b[0m\n\u001b[1;32m      4\u001b[0m img \u001b[38;5;241m=\u001b[39m np\u001b[38;5;241m.\u001b[39mload(img_name)\n\u001b[1;32m      5\u001b[0m mask \u001b[38;5;241m=\u001b[39m np\u001b[38;5;241m.\u001b[39mload(mask_name)\n\u001b[0;32m----> 6\u001b[0m \u001b[43msave_chunks\u001b[49m\u001b[43m(\u001b[49m\u001b[43mimg\u001b[49m\u001b[43m,\u001b[49m\u001b[43m \u001b[49m\u001b[43mCLASSIFY_DATA_FOLDER\u001b[49m\u001b[43m,\u001b[49m\u001b[43m \u001b[49m\u001b[43mname\u001b[49m\u001b[43m,\u001b[49m\u001b[43m \u001b[49m\u001b[43mIMG_EXT\u001b[49m\u001b[43m)\u001b[49m\n\u001b[1;32m      7\u001b[0m save_chunks(mask, CLASSIFY_DATA_FOLDER, name, MASK_EXT)\n",
      "Cell \u001b[0;32mIn[2], line 11\u001b[0m, in \u001b[0;36msave_chunks\u001b[0;34m(arr, save_folder, save_name, ext)\u001b[0m\n\u001b[1;32m      9\u001b[0m         \u001b[38;5;28;01mfor\u001b[39;00m k \u001b[38;5;129;01min\u001b[39;00m \u001b[38;5;28mrange\u001b[39m(D \u001b[38;5;241m/\u001b[39m\u001b[38;5;241m/\u001b[39m d):\n\u001b[1;32m     10\u001b[0m             subdata \u001b[38;5;241m=\u001b[39m arr[i\u001b[38;5;241m*\u001b[39mh:(i\u001b[38;5;241m+\u001b[39m\u001b[38;5;241m1\u001b[39m)\u001b[38;5;241m*\u001b[39mh, j\u001b[38;5;241m*\u001b[39mw:(j\u001b[38;5;241m+\u001b[39m\u001b[38;5;241m1\u001b[39m)\u001b[38;5;241m*\u001b[39mw, k\u001b[38;5;241m*\u001b[39md:(k\u001b[38;5;241m+\u001b[39m\u001b[38;5;241m1\u001b[39m)\u001b[38;5;241m*\u001b[39md]\n\u001b[0;32m---> 11\u001b[0m             \u001b[43mnp\u001b[49m\u001b[38;5;241;43m.\u001b[39;49m\u001b[43msave\u001b[49m\u001b[43m(\u001b[49m\u001b[38;5;124;43m'\u001b[39;49m\u001b[38;5;132;43;01m{}\u001b[39;49;00m\u001b[38;5;124;43m/\u001b[39;49m\u001b[38;5;132;43;01m{}\u001b[39;49;00m\u001b[38;5;124;43m_\u001b[39;49m\u001b[38;5;132;43;01m{}\u001b[39;49;00m\u001b[38;5;132;43;01m{}\u001b[39;49;00m\u001b[38;5;124;43m'\u001b[39;49m\u001b[38;5;241;43m.\u001b[39;49m\u001b[43mformat\u001b[49m\u001b[43m(\u001b[49m\u001b[43msave_folder\u001b[49m\u001b[43m,\u001b[49m\u001b[43m \u001b[49m\u001b[43msave_name\u001b[49m\u001b[43m,\u001b[49m\u001b[43m \u001b[49m\u001b[43mcount\u001b[49m\u001b[43m,\u001b[49m\u001b[43m \u001b[49m\u001b[43mext\u001b[49m\u001b[43m)\u001b[49m\u001b[43m,\u001b[49m\u001b[43m \u001b[49m\u001b[43msubdata\u001b[49m\u001b[43m)\u001b[49m\n\u001b[1;32m     12\u001b[0m \u001b[38;5;28;01mreturn\u001b[39;00m\n",
      "File \u001b[0;32m~/Documents/GitHub/brains/env/lib/python3.11/site-packages/numpy/lib/npyio.py:546\u001b[0m, in \u001b[0;36msave\u001b[0;34m(file, arr, allow_pickle, fix_imports)\u001b[0m\n\u001b[1;32m    544\u001b[0m \u001b[38;5;28;01mwith\u001b[39;00m file_ctx \u001b[38;5;28;01mas\u001b[39;00m fid:\n\u001b[1;32m    545\u001b[0m     arr \u001b[38;5;241m=\u001b[39m np\u001b[38;5;241m.\u001b[39masanyarray(arr)\n\u001b[0;32m--> 546\u001b[0m     \u001b[38;5;28;43mformat\u001b[39;49m\u001b[38;5;241;43m.\u001b[39;49m\u001b[43mwrite_array\u001b[49m\u001b[43m(\u001b[49m\u001b[43mfid\u001b[49m\u001b[43m,\u001b[49m\u001b[43m \u001b[49m\u001b[43marr\u001b[49m\u001b[43m,\u001b[49m\u001b[43m \u001b[49m\u001b[43mallow_pickle\u001b[49m\u001b[38;5;241;43m=\u001b[39;49m\u001b[43mallow_pickle\u001b[49m\u001b[43m,\u001b[49m\n\u001b[1;32m    547\u001b[0m \u001b[43m                       \u001b[49m\u001b[43mpickle_kwargs\u001b[49m\u001b[38;5;241;43m=\u001b[39;49m\u001b[38;5;28;43mdict\u001b[39;49m\u001b[43m(\u001b[49m\u001b[43mfix_imports\u001b[49m\u001b[38;5;241;43m=\u001b[39;49m\u001b[43mfix_imports\u001b[49m\u001b[43m)\u001b[49m\u001b[43m)\u001b[49m\n",
      "File \u001b[0;32m~/Documents/GitHub/brains/env/lib/python3.11/site-packages/numpy/lib/format.py:730\u001b[0m, in \u001b[0;36mwrite_array\u001b[0;34m(fp, array, version, allow_pickle, pickle_kwargs)\u001b[0m\n\u001b[1;32m    728\u001b[0m \u001b[38;5;28;01melse\u001b[39;00m:\n\u001b[1;32m    729\u001b[0m     \u001b[38;5;28;01mif\u001b[39;00m isfileobj(fp):\n\u001b[0;32m--> 730\u001b[0m         \u001b[43marray\u001b[49m\u001b[38;5;241;43m.\u001b[39;49m\u001b[43mtofile\u001b[49m\u001b[43m(\u001b[49m\u001b[43mfp\u001b[49m\u001b[43m)\u001b[49m\n\u001b[1;32m    731\u001b[0m     \u001b[38;5;28;01melse\u001b[39;00m:\n\u001b[1;32m    732\u001b[0m         \u001b[38;5;28;01mfor\u001b[39;00m chunk \u001b[38;5;129;01min\u001b[39;00m numpy\u001b[38;5;241m.\u001b[39mnditer(\n\u001b[1;32m    733\u001b[0m                 array, flags\u001b[38;5;241m=\u001b[39m[\u001b[38;5;124m'\u001b[39m\u001b[38;5;124mexternal_loop\u001b[39m\u001b[38;5;124m'\u001b[39m, \u001b[38;5;124m'\u001b[39m\u001b[38;5;124mbuffered\u001b[39m\u001b[38;5;124m'\u001b[39m, \u001b[38;5;124m'\u001b[39m\u001b[38;5;124mzerosize_ok\u001b[39m\u001b[38;5;124m'\u001b[39m],\n\u001b[1;32m    734\u001b[0m                 buffersize\u001b[38;5;241m=\u001b[39mbuffersize, order\u001b[38;5;241m=\u001b[39m\u001b[38;5;124m'\u001b[39m\u001b[38;5;124mC\u001b[39m\u001b[38;5;124m'\u001b[39m):\n",
      "\u001b[0;31mKeyboardInterrupt\u001b[0m: "
     ]
    }
   ],
   "source": [
    "for name in tqdm(name_list):\n",
    "    img_name = '{}/{}{}'.format(DATA_FOLDER, name, IMG_EXT)\n",
    "    mask_name = '{}/{}{}'.format(DATA_FOLDER, name, MASK_EXT)\n",
    "    img = np.load(img_name)\n",
    "    mask = np.load(mask_name)\n",
    "    save_chunks(img, CLASSIFY_DATA_FOLDER, name, IMG_EXT)\n",
    "    save_chunks(mask, CLASSIFY_DATA_FOLDER, name, MASK_EXT)"
   ]
  }
 ],
 "metadata": {
  "kernelspec": {
   "display_name": "env",
   "language": "python",
   "name": "python3"
  },
  "language_info": {
   "codemirror_mode": {
    "name": "ipython",
    "version": 3
   },
   "file_extension": ".py",
   "mimetype": "text/x-python",
   "name": "python",
   "nbconvert_exporter": "python",
   "pygments_lexer": "ipython3",
   "version": "3.11.3"
  }
 },
 "nbformat": 4,
 "nbformat_minor": 2
}
